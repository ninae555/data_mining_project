{
 "cells": [
  {
   "cell_type": "code",
   "execution_count": 59,
   "metadata": {},
   "outputs": [],
   "source": [
    "import pandas as pd"
   ]
  },
  {
   "cell_type": "code",
   "execution_count": 60,
   "metadata": {},
   "outputs": [],
   "source": [
    "building_permits_2023 = pd.read_csv(\"Data/Building_Permits_in_2023.csv\")\n",
    "building_permits_2022 = pd.read_csv(\"Data/Building_Permits_in_2022.csv\")\n",
    "building_permits = pd.concat(\n",
    "    [\n",
    "        building_permits_2022,\n",
    "        building_permits_2023,\n",
    "    ],\n",
    "    axis=0,\n",
    ")\n"
   ]
  },
  {
   "cell_type": "code",
   "execution_count": 61,
   "metadata": {},
   "outputs": [
    {
     "name": "stdout",
     "output_type": "stream",
     "text": [
      "<class 'pandas.core.frame.DataFrame'>\n",
      "Int64Index: 58093 entries, 0 to 10185\n",
      "Data columns (total 44 columns):\n",
      " #   Column                       Non-Null Count  Dtype  \n",
      "---  ------                       --------------  -----  \n",
      " 0   X                            58093 non-null  float64\n",
      " 1   Y                            58093 non-null  float64\n",
      " 2   OBJECTID                     58093 non-null  int64  \n",
      " 3   DCRAINTERNALNUMBER           58093 non-null  float64\n",
      " 4   ISSUE_DATE                   58093 non-null  object \n",
      " 5   PERMIT_ID                    58093 non-null  object \n",
      " 6   PERMIT_TYPE_NAME             58093 non-null  object \n",
      " 7   PERMIT_SUBTYPE_NAME          57246 non-null  object \n",
      " 8   PERMIT_CATEGORY_NAME         3334 non-null   object \n",
      " 9   APPLICATION_STATUS_NAME      58093 non-null  object \n",
      " 10  FULL_ADDRESS                 58093 non-null  object \n",
      " 11  DESC_OF_WORK                 22961 non-null  object \n",
      " 12  SSL                          56261 non-null  object \n",
      " 13  ZONING                       54036 non-null  object \n",
      " 14  PERMIT_APPLICANT             25789 non-null  object \n",
      " 15  FEE_TYPE                     52816 non-null  object \n",
      " 16  FEES_PAID                    58093 non-null  int64  \n",
      " 17  OWNER_NAME                   55351 non-null  object \n",
      " 18  LASTMODIFIEDDATE             58093 non-null  object \n",
      " 19  CITY                         0 non-null      float64\n",
      " 20  STATE                        0 non-null      float64\n",
      " 21  LATITUDE                     58093 non-null  float64\n",
      " 22  LONGITUDE                    58093 non-null  float64\n",
      " 23  XCOORD                       58093 non-null  float64\n",
      " 24  YCOORD                       58093 non-null  float64\n",
      " 25  ZIPCODE                      0 non-null      float64\n",
      " 26  MARADDRESSREPOSITORYID       58093 non-null  int64  \n",
      " 27  DCSTATADDRESSKEY             0 non-null      float64\n",
      " 28  DCSTATLOCATIONKEY            0 non-null      float64\n",
      " 29  WARD                         58093 non-null  int64  \n",
      " 30  ANC                          58093 non-null  object \n",
      " 31  SMD                          58093 non-null  object \n",
      " 32  DISTRICT                     58093 non-null  object \n",
      " 33  PSA                          58093 non-null  int64  \n",
      " 34  NEIGHBORHOODCLUSTER          58093 non-null  object \n",
      " 35  HOTSPOT2006NAME              0 non-null      float64\n",
      " 36  HOTSPOT2005NAME              0 non-null      float64\n",
      " 37  HOTSPOT2004NAME              0 non-null      float64\n",
      " 38  BUSINESSIMPROVEMENTDISTRICT  12224 non-null  object \n",
      " 39  GLOBALID                     58093 non-null  object \n",
      " 40  CREATED_USER                 58093 non-null  object \n",
      " 41  CREATED_DATE                 58093 non-null  object \n",
      " 42  LAST_EDITED_USER             58093 non-null  object \n",
      " 43  LAST_EDITED_DATE             58093 non-null  object \n",
      "dtypes: float64(15), int64(5), object(24)\n",
      "memory usage: 19.9+ MB\n",
      "None\n"
     ]
    }
   ],
   "source": [
    "print(building_permits.info())\n"
   ]
  },
  {
   "cell_type": "code",
   "execution_count": 62,
   "metadata": {},
   "outputs": [
    {
     "data": {
      "text/plain": [
       "array([nan, 'AFTER HOURS', 'EXTENSION', 'HISTORIC PROPERTY',\n",
       "       'SOIL BORING', 'SCAFFOLDING', 'ANTENNA', 'TOWER CRANE',\n",
       "       'FUEL BURNING', 'UNDERGROUND STORAGE TANK', 'TENT',\n",
       "       'MINIATURE BOILER'], dtype=object)"
      ]
     },
     "execution_count": 62,
     "metadata": {},
     "output_type": "execute_result"
    }
   ],
   "source": [
    "building_permits[\"PERMIT_CATEGORY_NAME\"].unique()"
   ]
  },
  {
   "cell_type": "code",
   "execution_count": 63,
   "metadata": {},
   "outputs": [],
   "source": [
    "building_permits = building_permits[building_permits[\"APPLICATION_STATUS_NAME\"] == 'PERMIT ISSUED']"
   ]
  },
  {
   "cell_type": "code",
   "execution_count": 64,
   "metadata": {},
   "outputs": [
    {
     "data": {
      "text/plain": [
       "(48301, 44)"
      ]
     },
     "execution_count": 64,
     "metadata": {},
     "output_type": "execute_result"
    }
   ],
   "source": [
    "building_permits.shape"
   ]
  },
  {
   "cell_type": "code",
   "execution_count": 65,
   "metadata": {},
   "outputs": [
    {
     "data": {
      "text/plain": [
       "X                                  0\n",
       "Y                                  0\n",
       "OBJECTID                           0\n",
       "DCRAINTERNALNUMBER                 0\n",
       "ISSUE_DATE                         0\n",
       "PERMIT_ID                          0\n",
       "PERMIT_TYPE_NAME                   0\n",
       "PERMIT_SUBTYPE_NAME              845\n",
       "PERMIT_CATEGORY_NAME           45017\n",
       "APPLICATION_STATUS_NAME            0\n",
       "FULL_ADDRESS                       0\n",
       "DESC_OF_WORK                   28182\n",
       "SSL                             1764\n",
       "ZONING                          3662\n",
       "PERMIT_APPLICANT               25473\n",
       "FEE_TYPE                        4438\n",
       "FEES_PAID                          0\n",
       "OWNER_NAME                      2672\n",
       "LASTMODIFIEDDATE                   0\n",
       "CITY                           48301\n",
       "STATE                          48301\n",
       "LATITUDE                           0\n",
       "LONGITUDE                          0\n",
       "XCOORD                             0\n",
       "YCOORD                             0\n",
       "ZIPCODE                        48301\n",
       "MARADDRESSREPOSITORYID             0\n",
       "DCSTATADDRESSKEY               48301\n",
       "DCSTATLOCATIONKEY              48301\n",
       "WARD                               0\n",
       "ANC                                0\n",
       "SMD                                0\n",
       "DISTRICT                           0\n",
       "PSA                                0\n",
       "NEIGHBORHOODCLUSTER                0\n",
       "HOTSPOT2006NAME                48301\n",
       "HOTSPOT2005NAME                48301\n",
       "HOTSPOT2004NAME                48301\n",
       "BUSINESSIMPROVEMENTDISTRICT    38123\n",
       "GLOBALID                           0\n",
       "CREATED_USER                       0\n",
       "CREATED_DATE                       0\n",
       "LAST_EDITED_USER                   0\n",
       "LAST_EDITED_DATE                   0\n",
       "dtype: int64"
      ]
     },
     "execution_count": 65,
     "metadata": {},
     "output_type": "execute_result"
    }
   ],
   "source": [
    "building_permits.isnull().sum()"
   ]
  },
  {
   "cell_type": "code",
   "execution_count": 66,
   "metadata": {},
   "outputs": [],
   "source": [
    "# dropping entirely null columns\n",
    "building_permits.dropna(axis=1, how='all', inplace=True)"
   ]
  },
  {
   "cell_type": "code",
   "execution_count": 67,
   "metadata": {},
   "outputs": [],
   "source": [
    "# Remove unnecessary columns\n",
    "columns_to_drop = [\n",
    "    \"OBJECTID\", # Not Useful in the analysis\n",
    "    \"GLOBALID\", # Not Useful in the analysis\n",
    "    \"CREATED_USER\", # Not Useful in the analysis\n",
    "    \"LAST_EDITED_USER\", # Not Useful in the analysis\n",
    "    'DCRAINTERNALNUMBER', # Not Useful in the analysis\n",
    "    'APPLICATION_STATUS_NAME', # As we are keeping obeservations APPLICATION_STATUS_NAME == 'Permit Issued' \n",
    "    'BUSINESSIMPROVEMENTDISTRICT', # mostly nulls\n",
    "\n",
    "]\n",
    "building_permits.drop(columns=columns_to_drop, inplace=True)"
   ]
  },
  {
   "cell_type": "code",
   "execution_count": 68,
   "metadata": {},
   "outputs": [
    {
     "data": {
      "text/plain": [
       "Index(['X', 'Y', 'ISSUE_DATE', 'PERMIT_ID', 'PERMIT_TYPE_NAME',\n",
       "       'PERMIT_SUBTYPE_NAME', 'PERMIT_CATEGORY_NAME', 'FULL_ADDRESS',\n",
       "       'DESC_OF_WORK', 'SSL', 'ZONING', 'PERMIT_APPLICANT', 'FEE_TYPE',\n",
       "       'FEES_PAID', 'OWNER_NAME', 'LASTMODIFIEDDATE', 'LATITUDE', 'LONGITUDE',\n",
       "       'XCOORD', 'YCOORD', 'MARADDRESSREPOSITORYID', 'WARD', 'ANC', 'SMD',\n",
       "       'DISTRICT', 'PSA', 'NEIGHBORHOODCLUSTER', 'CREATED_DATE',\n",
       "       'LAST_EDITED_DATE'],\n",
       "      dtype='object')"
      ]
     },
     "execution_count": 68,
     "metadata": {},
     "output_type": "execute_result"
    }
   ],
   "source": [
    "building_permits.columns"
   ]
  },
  {
   "cell_type": "code",
   "execution_count": 69,
   "metadata": {},
   "outputs": [],
   "source": [
    "building_permits['ISSUE_DATE'] = pd.to_datetime(building_permits['ISSUE_DATE'])\n",
    "building_permits['LASTMODIFIEDDATE'] = pd.to_datetime(building_permits['LASTMODIFIEDDATE'])\n",
    "building_permits['CREATED_DATE'] = pd.to_datetime(building_permits['CREATED_DATE'])\n",
    "building_permits['LAST_EDITED_DATE'] = pd.to_datetime(building_permits['LAST_EDITED_DATE']) "
   ]
  },
  {
   "cell_type": "code",
   "execution_count": 70,
   "metadata": {},
   "outputs": [
    {
     "data": {
      "text/plain": [
       "X                             0\n",
       "Y                             0\n",
       "ISSUE_DATE                    0\n",
       "PERMIT_ID                     0\n",
       "PERMIT_TYPE_NAME              0\n",
       "PERMIT_SUBTYPE_NAME         845\n",
       "PERMIT_CATEGORY_NAME      45017\n",
       "FULL_ADDRESS                  0\n",
       "DESC_OF_WORK              28182\n",
       "SSL                        1764\n",
       "ZONING                     3662\n",
       "PERMIT_APPLICANT          25473\n",
       "FEE_TYPE                   4438\n",
       "FEES_PAID                     0\n",
       "OWNER_NAME                 2672\n",
       "LASTMODIFIEDDATE              0\n",
       "LATITUDE                      0\n",
       "LONGITUDE                     0\n",
       "XCOORD                        0\n",
       "YCOORD                        0\n",
       "MARADDRESSREPOSITORYID        0\n",
       "WARD                          0\n",
       "ANC                           0\n",
       "SMD                           0\n",
       "DISTRICT                      0\n",
       "PSA                           0\n",
       "NEIGHBORHOODCLUSTER           0\n",
       "CREATED_DATE                  0\n",
       "LAST_EDITED_DATE              0\n",
       "dtype: int64"
      ]
     },
     "execution_count": 70,
     "metadata": {},
     "output_type": "execute_result"
    }
   ],
   "source": [
    "building_permits.isnull().sum()"
   ]
  },
  {
   "cell_type": "code",
   "execution_count": 71,
   "metadata": {},
   "outputs": [
    {
     "name": "stdout",
     "output_type": "stream",
     "text": [
      "<class 'pandas.core.frame.DataFrame'>\n",
      "Int64Index: 48301 entries, 3 to 10185\n",
      "Data columns (total 29 columns):\n",
      " #   Column                  Non-Null Count  Dtype              \n",
      "---  ------                  --------------  -----              \n",
      " 0   X                       48301 non-null  float64            \n",
      " 1   Y                       48301 non-null  float64            \n",
      " 2   ISSUE_DATE              48301 non-null  datetime64[ns, UTC]\n",
      " 3   PERMIT_ID               48301 non-null  object             \n",
      " 4   PERMIT_TYPE_NAME        48301 non-null  object             \n",
      " 5   PERMIT_SUBTYPE_NAME     47456 non-null  object             \n",
      " 6   PERMIT_CATEGORY_NAME    3284 non-null   object             \n",
      " 7   FULL_ADDRESS            48301 non-null  object             \n",
      " 8   DESC_OF_WORK            20119 non-null  object             \n",
      " 9   SSL                     46537 non-null  object             \n",
      " 10  ZONING                  44639 non-null  object             \n",
      " 11  PERMIT_APPLICANT        22828 non-null  object             \n",
      " 12  FEE_TYPE                43863 non-null  object             \n",
      " 13  FEES_PAID               48301 non-null  int64              \n",
      " 14  OWNER_NAME              45629 non-null  object             \n",
      " 15  LASTMODIFIEDDATE        48301 non-null  datetime64[ns, UTC]\n",
      " 16  LATITUDE                48301 non-null  float64            \n",
      " 17  LONGITUDE               48301 non-null  float64            \n",
      " 18  XCOORD                  48301 non-null  float64            \n",
      " 19  YCOORD                  48301 non-null  float64            \n",
      " 20  MARADDRESSREPOSITORYID  48301 non-null  int64              \n",
      " 21  WARD                    48301 non-null  int64              \n",
      " 22  ANC                     48301 non-null  object             \n",
      " 23  SMD                     48301 non-null  object             \n",
      " 24  DISTRICT                48301 non-null  object             \n",
      " 25  PSA                     48301 non-null  int64              \n",
      " 26  NEIGHBORHOODCLUSTER     48301 non-null  object             \n",
      " 27  CREATED_DATE            48301 non-null  datetime64[ns, UTC]\n",
      " 28  LAST_EDITED_DATE        48301 non-null  datetime64[ns, UTC]\n",
      "dtypes: datetime64[ns, UTC](4), float64(6), int64(4), object(15)\n",
      "memory usage: 11.1+ MB\n"
     ]
    }
   ],
   "source": [
    "building_permits.info()"
   ]
  },
  {
   "cell_type": "code",
   "execution_count": 72,
   "metadata": {},
   "outputs": [
    {
     "name": "stdout",
     "output_type": "stream",
     "text": [
      "Number of duplicate rows: 0\n"
     ]
    }
   ],
   "source": [
    "duplicate_rows = building_permits.duplicated()\n",
    "print(f\"Number of duplicate rows: {duplicate_rows.sum()}\")"
   ]
  },
  {
   "cell_type": "code",
   "execution_count": 73,
   "metadata": {},
   "outputs": [],
   "source": [
    "def get_duplicate_column_pairs(df):\n",
    "    duplicate_column_pairs = {}\n",
    "    for i in range(len(df.columns)):\n",
    "        for j in range(i + 1, len(df.columns)):\n",
    "            if df.iloc[:, i].equals(df.iloc[:, j]):\n",
    "                duplicate_column_pairs[df.columns[j]] = df.columns[i]\n",
    "    return duplicate_column_pairs"
   ]
  },
  {
   "cell_type": "code",
   "execution_count": 74,
   "metadata": {},
   "outputs": [
    {
     "name": "stdout",
     "output_type": "stream",
     "text": [
      "Duplicate column pairs: {'LAST_EDITED_DATE': 'CREATED_DATE'}\n"
     ]
    }
   ],
   "source": [
    "duplicate_column_pairs = get_duplicate_column_pairs(building_permits)\n",
    "print(f\"Duplicate column pairs: {duplicate_column_pairs}\")"
   ]
  },
  {
   "cell_type": "code",
   "execution_count": 75,
   "metadata": {},
   "outputs": [],
   "source": [
    "building_permits.drop(columns=['LAST_EDITED_DATE'], inplace=True)"
   ]
  },
  {
   "cell_type": "code",
   "execution_count": 76,
   "metadata": {},
   "outputs": [
    {
     "data": {
      "text/plain": [
       "(48301, 28)"
      ]
     },
     "execution_count": 76,
     "metadata": {},
     "output_type": "execute_result"
    }
   ],
   "source": [
    "building_permits.shape"
   ]
  },
  {
   "cell_type": "code",
   "execution_count": 77,
   "metadata": {},
   "outputs": [],
   "source": [
    "building_permits.to_csv(\"Data/building_permits.csv\")"
   ]
  },
  {
   "cell_type": "code",
   "execution_count": null,
   "metadata": {},
   "outputs": [],
   "source": []
  }
 ],
 "metadata": {
  "kernelspec": {
   "display_name": "building_permits_dc",
   "language": "python",
   "name": "python3"
  },
  "language_info": {
   "codemirror_mode": {
    "name": "ipython",
    "version": 3
   },
   "file_extension": ".py",
   "mimetype": "text/x-python",
   "name": "python",
   "nbconvert_exporter": "python",
   "pygments_lexer": "ipython3",
   "version": "3.9.16"
  },
  "orig_nbformat": 4
 },
 "nbformat": 4,
 "nbformat_minor": 2
}
